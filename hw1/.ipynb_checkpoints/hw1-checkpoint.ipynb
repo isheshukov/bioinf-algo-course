{
 "cells": [
  {
   "cell_type": "markdown",
   "metadata": {},
   "source": [
    "# Домашнее задание №1\n",
    "\n",
    "## Задача 1\n",
    "\n",
    "В алгоритме Нидлмана-Вунша мы находим путь из начала в конец через матрицу весов, имеющий наибольший вес. Любой другой путь из начала в конец этой матрицы это тоже выравнивание.\n",
    "\n",
    "Тогда задачу 1 можно свести к такой: каким количеством способов по решетке $\\{0, \\dots, n\\} \\times \\{0, \\dots, m\\}$ можно прийти из позиции $(0, 0)$ в $(n, m)$ двигаясь на одну клетку вправо, вниз или вправо-вниз по диагонали. \n",
    "\n",
    "$$\n",
    "\\begin{pmatrix}\n",
    "1 & 1 & 1  & 1 & \\dots \\\\\n",
    "1 & 3 & 5  & 7 &\\dots \\\\\n",
    "1 & 5 & 13 & 25 & \\dots  \\\\\n",
    "1 & 9 & 41 & \\ldots  & \\ddots  \\\\ \n",
    "\\vdots & \\vdots & \\vdots & \\vdots  & \\ddots \n",
    "\\end{pmatrix}\n",
    "$$\n",
    "\n",
    "Пусть есть две строки длины $n$ и $m$ и пусть $n \\geq m$.\n",
    "Проход по решетке можно записать как последовательность направлений $\\rightarrow, \\downarrow, \\searrow$\n",
    "\n",
    "Фиксируем $k$. Нам нужно совершить $n+m-k$ шагов, где $k$ это количество диагональных переходов (отнимаем $k$ потому что за одно $\\searrow$ мы делаем $\\rightarrow$ и $\\downarrow$).\n",
    "И на этих $n+m-k$ позициях нужно разместить $n-k$ $\\downarrow$, $m-k$ $\\rightarrow$ и $k$ $\\searrow$.\n",
    "Это мультиномиальный коэфициент:\n",
    "$$ {n+m-k \\choose n-k, m-k, k} $$\n",
    "\n",
    "Просуммируем по $k$ (до $m$, потому что если мы сделаем m+1 $\\searrow$, то мы не сможем прийти в $(n,m)$):\n",
    "\n",
    "$$ \\sum\\limits_{k=0}^{m} {n+m-k \\choose n-k, m-k, k} $$\n"
   ]
  },
  {
   "cell_type": "markdown",
   "metadata": {},
   "source": [
    "## Задача 2"
   ]
  },
  {
   "cell_type": "code",
   "execution_count": 1,
   "metadata": {},
   "outputs": [],
   "source": [
    "import numpy as np"
   ]
  },
  {
   "cell_type": "code",
   "execution_count": 2,
   "metadata": {},
   "outputs": [],
   "source": [
    "def align(v, w, match=1, mismatch=-1, gap=-1):\n",
    "    \"\"\"Алгоритм Нидлмана-Вунша\n",
    "\n",
    "        v (str): Первая строка\n",
    "        w (str): Вторая строка\n",
    "        match (float): Очки за совпадение\n",
    "        mismatch (float): Очки за несовпадение\n",
    "        gap (float): Очки за gap\n",
    "    \"\"\"\n",
    "    n = len(v)\n",
    "    m = len(w)\n",
    "    s = np.zeros((n+1, m+1))\n",
    "    parents = np.zeros((n+1, m+1), dtype=int)\n",
    "\n",
    "    for i in range(1, n+1):\n",
    "        s[i][0] = s[i-1][0] + gap\n",
    "        parents[i][0] = 1\n",
    "    \n",
    "    for j in range(1, m+1):\n",
    "        s[0][j] = s[0][j-1] + gap\n",
    "        parents[0][j] = 0\n",
    "    \n",
    "    for i in range(1, n+1):\n",
    "        for j in range(1, m+1):\n",
    "            candidates = []\n",
    "            candidates.append(s[i][j-1] + gap) # left = 0\n",
    "            candidates.append(s[i-1][j] + gap) # up = 1\n",
    "            if (v[i-1] == w[j-1]): # diagonal = 2\n",
    "                candidates.append(s[i-1][j-1] + match)\n",
    "            else:\n",
    "                candidates.append(s[i-1][j-1] + mismatch)\n",
    "            \n",
    "            parents[i][j] = np.argmax(candidates)\n",
    "            s[i][j] = candidates[parents[i][j]]\n",
    "\n",
    "    # Backpropagation\n",
    "    v_aligned, w_aligned = \"\", \"\"\n",
    "    i, j = n, m\n",
    "\n",
    "    while not (i == 0 and j == 0):\n",
    "        if parents[i][j] == 0: # left            \n",
    "            v_aligned = \"-\" + v_aligned\n",
    "            w_aligned = w[j-1] + w_aligned\n",
    "            j -= 1\n",
    "        elif parents[i][j] == 1: # up\n",
    "            v_aligned = v[i-1] + v_aligned\n",
    "            w_aligned = \"-\" + w_aligned\n",
    "            i -= 1\n",
    "        else: # diagonal\n",
    "            v_aligned = v[i-1] + v_aligned\n",
    "            w_aligned = w[j-1] + w_aligned\n",
    "            i -= 1\n",
    "            j -= 1\n",
    "    \n",
    "    print(\"%s\\n%s\" % (v_aligned, w_aligned))"
   ]
  },
  {
   "cell_type": "markdown",
   "metadata": {},
   "source": [
    "Тест 1"
   ]
  },
  {
   "cell_type": "code",
   "execution_count": 3,
   "metadata": {},
   "outputs": [
    {
     "name": "stdout",
     "output_type": "stream",
     "text": [
      "G-TCA\n",
      "AATT-\n"
     ]
    }
   ],
   "source": [
    "align(\"GTCA\", \"AATT\")"
   ]
  },
  {
   "cell_type": "markdown",
   "metadata": {},
   "source": [
    "Тест 2"
   ]
  },
  {
   "cell_type": "code",
   "execution_count": 4,
   "metadata": {},
   "outputs": [
    {
     "name": "stdout",
     "output_type": "stream",
     "text": [
      "GTCA---\n",
      "---AATT\n"
     ]
    }
   ],
   "source": [
    "align(\"GTCA\", \"AATT\", gap=-0.499)"
   ]
  },
  {
   "cell_type": "markdown",
   "metadata": {},
   "source": [
    "## Задача 3"
   ]
  },
  {
   "cell_type": "code",
   "execution_count": 5,
   "metadata": {},
   "outputs": [],
   "source": [
    "def align_matrix(v, w, weights):\n",
    "    \"\"\"Алгоритм Нидлмана-Вунша с матрицей весов\n",
    "\n",
    "        v (str): Первая строка\n",
    "        w (str): Вторая строка\n",
    "        weights (float, float): Матрица весов \n",
    "    \"\"\"\n",
    "    n = len(v)\n",
    "    m = len(w)\n",
    "    s = np.zeros((n+1, m+1))\n",
    "    parents = np.zeros((n+1, m+1), dtype=int)\n",
    "\n",
    "    if np.shape(s) != np.shape(weights):\n",
    "        raise ValueError(\"Size error. Weights matrix must be of size: %s\" % str(np.shape(s)))\n",
    "\n",
    "    for i in range(1, n+1):\n",
    "        s[i][0] = s[i-1][0] + weights[i][0]\n",
    "        parents[i][0] = 1\n",
    "    \n",
    "    for j in range(1, m+1):\n",
    "        s[0][j] = s[0][j-1] + weights[0][j]\n",
    "        parents[0][j] = 0\n",
    "\n",
    "    for i in range(1, n+1):\n",
    "        for j in range(1, m+1):\n",
    "            candidates = []\n",
    "            candidates.append(s[i][j-1] + weights[0][j])   # left = 0\n",
    "            candidates.append(s[i-1][j] + weights[i][0])   # up = 1\n",
    "            candidates.append(s[i-1][j-1] + weights[i][j]) # diagonal = 2\n",
    "            \n",
    "            parents[i][j] = np.argmax(candidates)\n",
    "            s[i][j] = candidates[parents[i][j]]\n",
    "\n",
    "    # Backpropagation\n",
    "    v_aligned, w_aligned = \"\", \"\"\n",
    "    i, j = n, m\n",
    "\n",
    "    while not (i == 0 and j == 0):\n",
    "        if parents[i][j] == 0: # left            \n",
    "            v_aligned = \"-\" + v_aligned\n",
    "            w_aligned = w[j-1] + w_aligned\n",
    "            j -= 1\n",
    "        elif parents[i][j] == 1: # up\n",
    "            v_aligned = v[i-1] + v_aligned\n",
    "            w_aligned = \"-\" + w_aligned\n",
    "            i -= 1\n",
    "        else: # diagonal\n",
    "            v_aligned = v[i-1] + v_aligned\n",
    "            w_aligned = w[j-1] + w_aligned\n",
    "            i -= 1\n",
    "            j -= 1\n",
    "    \n",
    "    print(\"%s\\n%s\" % (v_aligned, w_aligned))"
   ]
  },
  {
   "cell_type": "markdown",
   "metadata": {},
   "source": [
    "Тест"
   ]
  },
  {
   "cell_type": "code",
   "execution_count": 6,
   "metadata": {},
   "outputs": [],
   "source": [
    "s = np.array([[-1, -1, -2, -3], \n",
    "              [-1, -1, -2, -3],\n",
    "              [-1, -1, -2, -3],\n",
    "              [-1, -1, -2, -10]])"
   ]
  },
  {
   "cell_type": "code",
   "execution_count": 7,
   "metadata": {},
   "outputs": [
    {
     "name": "stdout",
     "output_type": "stream",
     "text": [
      "abc-\n",
      "bb-d\n"
     ]
    }
   ],
   "source": [
    "align_matrix(\"abc\", \"bbd\", s)"
   ]
  },
  {
   "cell_type": "code",
   "execution_count": 8,
   "metadata": {},
   "outputs": [
    {
     "name": "stdout",
     "output_type": "stream",
     "text": [
      "abc\n",
      "bbd\n"
     ]
    }
   ],
   "source": [
    "s[3][3] = 10\n",
    "align_matrix(\"abc\", \"bbd\", s)"
   ]
  },
  {
   "cell_type": "markdown",
   "metadata": {},
   "source": [
    "## Задача 4"
   ]
  },
  {
   "cell_type": "code",
   "execution_count": 9,
   "metadata": {},
   "outputs": [],
   "source": [
    "def align_local(v, w, match=1, mismatch=-1, gap=-1):\n",
    "    \"\"\"Алгоритм Смита-Ватермана\n",
    "\n",
    "        v (str): Первая строка\n",
    "        w (str): Вторая строка\n",
    "        match (float): Очки за совпадение\n",
    "        mismatch (float): Очки за несовпадение\n",
    "        gap (float): Очки за gap\n",
    "    \"\"\"\n",
    "    n = len(v)\n",
    "    m = len(w)\n",
    "    s = np.zeros((n+1, m+1))\n",
    "    parents = np.zeros((n+1, m+1), dtype=int)\n",
    "\n",
    "    for i in range(1, n+1):\n",
    "        s[i][0] = s[i-1][0] + gap\n",
    "        parents[i][0] = 1\n",
    "    \n",
    "    for j in range(1, m+1):\n",
    "        s[0][j] = s[0][j-1] + gap\n",
    "        parents[0][j] = 0\n",
    "\n",
    "    for i in range(1, n+1):\n",
    "        for j in range(1, m+1):\n",
    "            candidates = []\n",
    "            candidates.append(s[i][j-1] + gap)   # left = 0\n",
    "            candidates.append(s[i-1][j] + gap)   # up = 1\n",
    "            if (v[i-1] == w[j-1]): # diagonal = 2\n",
    "                candidates.append(s[i-1][j-1] + match)\n",
    "            else:\n",
    "                candidates.append(s[i-1][j-1] + mismatch)\n",
    "            candidates.append(0) # origin = 3\n",
    "            \n",
    "            parents[i][j] = np.argmax(candidates)\n",
    "            s[i][j] = candidates[parents[i][j]]\n",
    "\n",
    "\n",
    "    # Backpropagation\n",
    "    i, j = np.unravel_index(np.argmax(s), s.shape)\n",
    "    v_aligned = v[i:].lower()\n",
    "    w_aligned = w[j:].lower()\n",
    "    \n",
    "    while not (i == 0 and j == 0):\n",
    "        if parents[i][j] == 0: # left            \n",
    "            v_aligned = \"-\" + v_aligned\n",
    "            w_aligned = w[j-1] + w_aligned\n",
    "            j -= 1\n",
    "        elif parents[i][j] == 1: # up\n",
    "            v_aligned = v[i-1] + v_aligned\n",
    "            w_aligned = \"-\" + w_aligned\n",
    "            i -= 1\n",
    "        elif parents[i][j] == 2: # diagonal\n",
    "            v_aligned = v[i-1] + v_aligned\n",
    "            w_aligned = w[j-1] + w_aligned\n",
    "            i -= 1\n",
    "            j -= 1\n",
    "        else: # origin\n",
    "            v_aligned = v[0:i - 1].lower() + v[i-1] + v_aligned\n",
    "            w_aligned = w[0:j - 1].lower() + w[i-1] + w_aligned\n",
    "\n",
    "            if i >= j:\n",
    "                w_aligned = \" \"*(i-j) + w_aligned\n",
    "            else:\n",
    "                v_aligned = \" \"*(j-i) + v_aligned\n",
    "\n",
    "            i = 0\n",
    "            j = 0\n",
    "    \n",
    "    print(\"%s\\n%s\" % (v_aligned, w_aligned))"
   ]
  },
  {
   "cell_type": "markdown",
   "metadata": {},
   "source": [
    "Тест"
   ]
  },
  {
   "cell_type": "code",
   "execution_count": 10,
   "metadata": {},
   "outputs": [
    {
     "name": "stdout",
     "output_type": "stream",
     "text": [
      "                  tcCCAGTTATGTCAGgggaacgagcatgcagagac\n",
      "aattgccgccgtcgttttcaTCAGTTATGTCAGatc\n"
     ]
    }
   ],
   "source": [
    "align_local(\"TCCCAGTTATGTCAGGGGAACGAGCATGCAGAGAC\",\"AATTGCCGCCGTCGTTTTCAGCAGTTATGTCAGATC\")"
   ]
  },
  {
   "cell_type": "code",
   "execution_count": 11,
   "metadata": {},
   "outputs": [
    {
     "name": "stdout",
     "output_type": "stream",
     "text": [
      "--T--CC-CAGT--TATGTCAGGGGAACGAGC-ATG-CAGAGAC\n",
      "AATTGCCGCCGTCGTTT-TCAG-----C-AGTTATGTCAGAT-C\n"
     ]
    }
   ],
   "source": [
    "align(\"TCCCAGTTATGTCAGGGGAACGAGCATGCAGAGAC\",\"AATTGCCGCCGTCGTTTTCAGCAGTTATGTCAGATC\")"
   ]
  }
 ],
 "metadata": {
  "kernelspec": {
   "display_name": "Python 3",
   "language": "python",
   "name": "python3"
  },
  "language_info": {
   "codemirror_mode": {
    "name": "ipython",
    "version": 3
   },
   "file_extension": ".py",
   "mimetype": "text/x-python",
   "name": "python",
   "nbconvert_exporter": "python",
   "pygments_lexer": "ipython3",
   "version": "3.6.6"
  }
 },
 "nbformat": 4,
 "nbformat_minor": 2
}
