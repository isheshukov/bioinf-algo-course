{
 "cells": [
  {
   "cell_type": "markdown",
   "metadata": {},
   "source": [
    "# Задача 1"
   ]
  },
  {
   "cell_type": "code",
   "execution_count": 138,
   "metadata": {},
   "outputs": [],
   "source": [
    "import numpy as np\n",
    "def nussinov(a):\n",
    "    \n",
    "    def is_complementary(a, b):\n",
    "        t = ''.join(sorted(a + b))\n",
    "        if (t == 'CG' or t == 'AU'):\n",
    "            return 1\n",
    "        else:\n",
    "            return 0\n",
    "    \n",
    "    n = len(a)\n",
    "    \n",
    "    # init\n",
    "    s = np.full((n, n), -np.inf, dtype=np.int)\n",
    "    \n",
    "    for l in range(0, n):\n",
    "        i, j = 0, l\n",
    "        while (i < n and j < n):\n",
    "            if (abs(i-j) >= 3):\n",
    "\n",
    "                t = []\n",
    "                for k in range(i+1, j):\n",
    "                    t.append(s[i][k] + s[k+1][j])\n",
    "                    \n",
    "                tt = [s[i][j-1]]\n",
    "\n",
    "                if (i + 1 < n):\n",
    "                    tt.append(s[i+1][j])\n",
    "                if (len(t) > 0):\n",
    "                    tt.append(np.max(t))\n",
    "                if (i+1 < n):\n",
    "                    tt.append(s[i+1][j-1] + is_complementary(a[i], a[j]))\n",
    "                    \n",
    "                s[i][j] = np.max(tt)\n",
    "                \n",
    "            else:\n",
    "                s[i][j] = 0\n",
    "            i += 1; j += 1\n",
    "            \n",
    "    print(s[0][n-1])\n",
    "    \n",
    "    # traceback\n",
    "    \n",
    "    tr = [(0,n-1)]\n",
    "    \n",
    "    while (len(tr) != 0):\n",
    "        i,j = tr.pop()\n",
    "        if (i >= j):\n",
    "            continue\n",
    "        elif (s[i+1][j] == s[i][j]):\n",
    "            tr.append((i+1,j))\n",
    "        elif (s[i][j-1] == s[i][j]):\n",
    "            tr.append((i,j-1))\n",
    "        elif (s[i+1][j-1] + is_complementary(a[i], a[j]) == s[i][j]):\n",
    "            print(\"%s - %s\" % (a[i], a[j]))\n",
    "            tr.append((i+1, j-1))\n",
    "        else:\n",
    "            for k in range(i+1, j):\n",
    "                if (s[i][k] + s[k+1][j] == s[i][j]):\n",
    "                    tr.append((i,k))\n",
    "                    tr.append((k+1,j))\n",
    "                    break    "
   ]
  },
  {
   "cell_type": "code",
   "execution_count": 139,
   "metadata": {},
   "outputs": [
    {
     "name": "stdout",
     "output_type": "stream",
     "text": [
      "1\n",
      "G - C\n"
     ]
    }
   ],
   "source": [
    "nussinov('GGACC')"
   ]
  },
  {
   "cell_type": "code",
   "execution_count": 140,
   "metadata": {},
   "outputs": [
    {
     "name": "stdout",
     "output_type": "stream",
     "text": [
      "7\n",
      "A - U\n",
      "C - G\n",
      "A - U\n",
      "U - A\n",
      "G - C\n",
      "G - C\n",
      "G - C\n"
     ]
    }
   ],
   "source": [
    "nussinov('AAACAUGAGGAUUACCCAUGU')"
   ]
  },
  {
   "cell_type": "markdown",
   "metadata": {},
   "source": [
    "# Задача 2"
   ]
  },
  {
   "cell_type": "markdown",
   "metadata": {},
   "source": [
    "пропуск"
   ]
  },
  {
   "cell_type": "code",
   "execution_count": null,
   "metadata": {},
   "outputs": [],
   "source": []
  }
 ],
 "metadata": {
  "kernelspec": {
   "display_name": "Python 3",
   "language": "python",
   "name": "python3"
  },
  "language_info": {
   "codemirror_mode": {
    "name": "ipython",
    "version": 3
   },
   "file_extension": ".py",
   "mimetype": "text/x-python",
   "name": "python",
   "nbconvert_exporter": "python",
   "pygments_lexer": "ipython3",
   "version": "3.6.6"
  }
 },
 "nbformat": 4,
 "nbformat_minor": 2
}
